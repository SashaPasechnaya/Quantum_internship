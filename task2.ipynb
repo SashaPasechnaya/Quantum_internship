{
 "cells": [
  {
   "cell_type": "code",
   "execution_count": 33,
   "id": "3eb4fdc9",
   "metadata": {},
   "outputs": [],
   "source": [
    "import time as tm\n",
    "import numpy as np"
   ]
  },
  {
   "cell_type": "code",
   "execution_count": 44,
   "id": "613fb0d1",
   "metadata": {},
   "outputs": [
    {
     "name": "stdout",
     "output_type": "stream",
     "text": [
      "Enter the number of rows: 3\n",
      "Enter the number of columns: 3\n",
      "Enter the value of an element (0, 0): 0\n",
      "Enter the value of an element (0, 1): 0\n",
      "Enter the value of an element (0, 2): 1\n",
      "Enter the value of an element (1, 0): 1\n",
      "Enter the value of an element (1, 1): 0\n",
      "Enter the value of an element (1, 2): 0\n",
      "Enter the value of an element (2, 0): 1\n",
      "Enter the value of an element (2, 1): 0\n",
      "Enter the value of an element (2, 2): 1\n",
      "[[0, 0, 1], [1, 0, 0], [1, 0, 1]]\n",
      "The number of islands in the matrix are:\n",
      "3\n",
      "time for complite: 0.0009937286376953125\n"
     ]
    }
   ],
   "source": [
    "def check(i, j, M, N):\n",
    "    return i >= 0 and j >= 0 and i < M and j < N\n",
    " \n",
    "def mark_component(v, vis, i, j, M, N):\n",
    "    if not check(i, j, M, N):\n",
    "        return\n",
    "    vis[i][j] = True\n",
    "    if v[i][j] == 1:\n",
    "        v[i][j] = 0\n",
    "#marking all possible part of single island.\n",
    "        mark_component(v, vis, i + 1, j, M, N)\n",
    "        mark_component(v, vis, i - 1, j, M, N)\n",
    "        mark_component(v, vis, i, j + 1, M, N)\n",
    "        mark_component(v, vis, i, j - 1, M, N)\n",
    "M = int(input(\"Enter the number of rows: \"))\n",
    "N = int(input(\"Enter the number of columns: \"))\n",
    "v = []\n",
    "for i in range(M):\n",
    "    row = []\n",
    "    for j in range(N):\n",
    "        value = int(input(f\"Enter the value of an element ({i}, {j}): \"))\n",
    "        row.append(value)\n",
    "    v.append(row)\n",
    "print(v)\n",
    "st = tm.time()\n",
    "cnt = 0\n",
    "vis = [[False for j in range(N)] for i in range(M)]\n",
    "for i in range(M):\n",
    "    for j in range(N):\n",
    "        if not vis[i][j] and v[i][j] == 1:\n",
    "            cnt += 1\n",
    "            mark_component(v, vis, i, j, M, N)\n",
    "print(\"The number of islands in the matrix are:\")\n",
    "print(cnt)\n",
    "fin = tm.time()\n",
    "print('time for complite:', fin - st)"
   ]
  },
  {
   "cell_type": "code",
   "execution_count": null,
   "id": "b0d961b8",
   "metadata": {},
   "outputs": [],
   "source": []
  }
 ],
 "metadata": {
  "kernelspec": {
   "display_name": "Python 3",
   "language": "python",
   "name": "python3"
  },
  "language_info": {
   "codemirror_mode": {
    "name": "ipython",
    "version": 3
   },
   "file_extension": ".py",
   "mimetype": "text/x-python",
   "name": "python",
   "nbconvert_exporter": "python",
   "pygments_lexer": "ipython3",
   "version": "3.8.8"
  }
 },
 "nbformat": 4,
 "nbformat_minor": 5
}
